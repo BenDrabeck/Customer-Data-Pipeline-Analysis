{
 "cells": [
  {
   "cell_type": "markdown",
   "id": "ddf475a3",
   "metadata": {},
   "source": [
    "## Linear Regression Project"
   ]
  },
  {
   "cell_type": "code",
   "execution_count": null,
   "id": "fea382d1",
   "metadata": {},
   "outputs": [],
   "source": [
    "\n",
    "### Data Loading from SQL Database\n",
    "\n",
    "import sqlite3\n",
    "import pandas as pd\n",
    "\n",
    "# Connect to the SQL database\n",
    "conn = sqlite3.connect('shopify_data.db')\n",
    "\n",
    "# Read the transformed data into a DataFrame\n",
    "df = pd.read_sql_query('SELECT * FROM transformed_shopify_customers', conn)\n"
   ]
  },
  {
   "cell_type": "markdown",
   "id": "1f40ea39",
   "metadata": {},
   "source": [
    "### Data Exploration"
   ]
  },
  {
   "cell_type": "code",
   "execution_count": null,
   "id": "2ddd00aa",
   "metadata": {},
   "outputs": [],
   "source": [
    "import pandas as pd\n",
    "file_path = '/mnt/data/customers_exportJul19.csv'\n",
    "df = pd.read_csv(file_path)\n",
    "df.head()"
   ]
  },
  {
   "cell_type": "markdown",
   "id": "2e6b4daa",
   "metadata": {},
   "source": [
    "### Data Cleaning (data_transformation.py should already do this but this is here just for data science purposes)"
   ]
  },
  {
   "cell_type": "code",
   "execution_count": null,
   "id": "82fe8529",
   "metadata": {},
   "outputs": [],
   "source": [
    "missing_values = df.isnull().sum()\n",
    "missing_values[missing_values > 0]"
   ]
  },
  {
   "cell_type": "code",
   "execution_count": null,
   "id": "0431172f",
   "metadata": {},
   "outputs": [],
   "source": [
    "df.drop(columns=['First Name', 'Last Name', 'Email', 'Company', 'Address2', 'Tags', 'Note', 'Phone', 'Customer ID'], inplace=True)"
   ]
  },
  {
   "cell_type": "code",
   "execution_count": null,
   "id": "c9a6aa9f",
   "metadata": {},
   "outputs": [],
   "source": [
    "from sklearn.impute import SimpleImputer\n",
    "imputer = SimpleImputer(strategy='most_frequent')\n",
    "df[['Address1', 'City', 'Province', 'Country', 'Zip']] = imputer.fit_transform(df[['Address1', 'City', 'Province', 'Country', 'Zip']])"
   ]
  },
  {
   "cell_type": "code",
   "execution_count": null,
   "id": "f1f931f4",
   "metadata": {},
   "outputs": [],
   "source": [
    "df.isnull().sum()"
   ]
  },
  {
   "cell_type": "code",
   "execution_count": null,
   "id": "9851fb28",
   "metadata": {},
   "outputs": [],
   "source": [
    "df.drop(columns=['Province Code', 'Country Code'], inplace=True)\n",
    "df.isnull().sum()"
   ]
  },
  {
   "cell_type": "markdown",
   "id": "fa03aa58",
   "metadata": {},
   "source": [
    "### Feature Selection"
   ]
  },
  {
   "cell_type": "code",
   "execution_count": null,
   "id": "3b4c979c",
   "metadata": {},
   "outputs": [],
   "source": [
    "from sklearn.preprocessing import LabelEncoder\n",
    "categorical_columns = ['Accepts Email Marketing', 'Accepts SMS Marketing', 'Tax Exempt', 'Address1', 'City', 'Province', 'Country', 'Zip']\n",
    "label_encoder = LabelEncoder()\n",
    "for column in categorical_columns:\n",
    "    df[column] = label_encoder.fit_transform(df[column])\n",
    "df.head()"
   ]
  },
  {
   "cell_type": "markdown",
   "id": "be0678b9",
   "metadata": {},
   "source": [
    "### Data Hashing"
   ]
  },
  {
   "cell_type": "code",
   "execution_count": null,
   "id": "6cb3ebc7",
   "metadata": {},
   "outputs": [],
   "source": [
    "import hashlib\n",
    "def hash_column(column):\n",
    "    return column.apply(lambda x: hashlib.sha256(str(x).encode('utf-8')).hexdigest())\n",
    "hashed_df = df.apply(hash_column)\n",
    "hashed_df.head()"
   ]
  },
  {
   "cell_type": "code",
   "execution_count": null,
   "id": "3ca10c05",
   "metadata": {},
   "outputs": [],
   "source": [
    "hashed_csv_path = 'hashed_customers_data.csv'\n",
    "hashed_df.to_csv(hashed_csv_path, index=False)"
   ]
  },
  {
   "cell_type": "markdown",
   "id": "ae375420",
   "metadata": {},
   "source": [
    "### Model Building"
   ]
  },
  {
   "cell_type": "code",
   "execution_count": null,
   "id": "d04b6353",
   "metadata": {},
   "outputs": [],
   "source": [
    "from sklearn.model_selection import train_test_split\n",
    "from sklearn.linear_model import LinearRegression\n",
    "from sklearn.metrics import mean_squared_error\n",
    "X = df.drop('Total Spent', axis=1)\n",
    "y = df['Total Spent']\n",
    "X_train, X_test, y_train, y_test = train_test_split(X, y, test_size=0.2, random_state=42)\n",
    "model = LinearRegression()\n",
    "model.fit(X_train, y_train)\n",
    "y_pred = model.predict(X_test)\n",
    "rmse = mean_squared_error(y_test, y_pred) ** 0.5\n",
    "rmse"
   ]
  },
  {
   "cell_type": "markdown",
   "id": "3df9ebbc",
   "metadata": {},
   "source": [
    "### Visualization"
   ]
  },
  {
   "cell_type": "code",
   "execution_count": null,
   "id": "f30c6808",
   "metadata": {},
   "outputs": [],
   "source": [
    "import matplotlib.pyplot as plt\n",
    "import seaborn as sns\n",
    "residuals = y_test - y_pred\n",
    "sns.residplot(x=y_pred, y=residuals, lowess=True, color='g', line_kws={'color': 'red', 'lw': 1, 'alpha': 1})\n",
    "plt.xlabel('Fitted values')\n",
    "plt.ylabel('Residuals')\n",
    "plt.title('Residuals vs Fitted Values')\n",
    "plt.show()"
   ]
  },
  {
   "cell_type": "code",
   "execution_count": null,
   "id": "d949a261",
   "metadata": {},
   "outputs": [],
   "source": [
    "feature_importance = pd.DataFrame({'Features': X.columns, 'Coefficients': model.coef_}).sort_values(by='Coefficients', ascending=False)\n",
    "sns.barplot(x='Coefficients', y='Features', data=feature_importance)\n",
    "plt.title('Feature Importance')\n",
    "plt.show()"
   ]
  }
 ],
 "metadata": {
  "language_info": {
   "name": "python"
  }
 },
 "nbformat": 4,
 "nbformat_minor": 5
}
